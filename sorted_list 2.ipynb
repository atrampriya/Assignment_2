{
 "cells": [
  {
   "cell_type": "code",
   "execution_count": 1,
   "id": "a73e68d8",
   "metadata": {},
   "outputs": [
    {
     "name": "stdout",
     "output_type": "stream",
     "text": [
      "2\n",
      "5\n",
      "1\n",
      "2\n",
      "4\n",
      "4\n",
      "2\n",
      "3\n",
      "2\n",
      "1\n",
      "[(2, 5), (1, 2), (4, 4), (2, 3), (2, 1)]\n",
      "[(2, 1), (1, 2), (2, 3), (4, 4), (2, 5)]\n"
     ]
    }
   ],
   "source": [
    "n = 5\n",
    "lst = []\n",
    "for i in range(5):\n",
    "    t = []\n",
    "    for j in range(2):\n",
    "        x = int(input())\n",
    "        t.append(x)\n",
    "        a = tuple(t)\n",
    "    lst.append(a)\n",
    "print(lst)\n",
    "for i in range(len(lst)):\n",
    "    for k in range(len(lst)):\n",
    "        if lst[i][1]<lst[k][1]:\n",
    "            lst[i],lst[k] = lst[k],lst[i]\n",
    "print(lst)"
   ]
  }
 ],
 "metadata": {
  "kernelspec": {
   "display_name": "Python 3 (ipykernel)",
   "language": "python",
   "name": "python3"
  },
  "language_info": {
   "codemirror_mode": {
    "name": "ipython",
    "version": 3
   },
   "file_extension": ".py",
   "mimetype": "text/x-python",
   "name": "python",
   "nbconvert_exporter": "python",
   "pygments_lexer": "ipython3",
   "version": "3.10.2"
  }
 },
 "nbformat": 4,
 "nbformat_minor": 5
}
